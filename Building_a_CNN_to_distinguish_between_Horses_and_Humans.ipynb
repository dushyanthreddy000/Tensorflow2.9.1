{
  "nbformat": 4,
  "nbformat_minor": 0,
  "metadata": {
    "colab": {
      "name": "Building a CNN to distinguish between Horses and Humans.ipynb",
      "provenance": [],
      "collapsed_sections": []
    },
    "kernelspec": {
      "name": "python3",
      "display_name": "Python 3"
    },
    "language_info": {
      "name": "python"
    }
  },
  "cells": [
    {
      "cell_type": "code",
      "execution_count": 10,
      "metadata": {
        "id": "vA60DSQ8Hq-O"
      },
      "outputs": [],
      "source": [
        "import urllib.request\n",
        "import zipfile"
      ]
    },
    {
      "cell_type": "code",
      "source": [
        "url = \"https://storage.googleapis.com/laurencemoroney-blog.appspot.com/horse-or-human.zip\""
      ],
      "metadata": {
        "id": "U8hq7EbJNCpC"
      },
      "execution_count": 12,
      "outputs": []
    },
    {
      "cell_type": "code",
      "source": [
        "file_name=\"horse-or-human.zip\"\n",
        "training_dir = 'horse-or-human/training'\n",
        "urllib.request.urlretrieve(url,file_name)"
      ],
      "metadata": {
        "colab": {
          "base_uri": "https://localhost:8080/"
        },
        "id": "iCLjr_WCN0q7",
        "outputId": "763b6753-a1da-4a2a-baf1-d00c0d3817ad"
      },
      "execution_count": 13,
      "outputs": [
        {
          "output_type": "execute_result",
          "data": {
            "text/plain": [
              "('horse-or-human.zip', <http.client.HTTPMessage at 0x7f4f17071e90>)"
            ]
          },
          "metadata": {},
          "execution_count": 13
        }
      ]
    },
    {
      "cell_type": "code",
      "source": [
        "zip_ref = zipfile.ZipFile(file_name,'r')\n",
        "zip_ref.extractall(training_dir)\n",
        "zip_ref.close()"
      ],
      "metadata": {
        "id": "piCZDGH5OUQa"
      },
      "execution_count": 14,
      "outputs": []
    },
    {
      "cell_type": "markdown",
      "source": [
        "To use the ImageDataGenerator we now use the following code"
      ],
      "metadata": {
        "id": "UCwDsgXBPBPu"
      }
    },
    {
      "cell_type": "code",
      "source": [
        "from tensorflow.keras.preprocessing.image import ImageDataGenerator"
      ],
      "metadata": {
        "id": "AJa_5DqyPHSZ"
      },
      "execution_count": 15,
      "outputs": []
    },
    {
      "cell_type": "code",
      "source": [
        "# all the images will be rescaled by 1./255\n",
        "train_datagen = ImageDataGenerator(rescale=1/255)\n",
        "train_generator = train_datagen.flow_from_directory(\n",
        "    training_dir,\n",
        "    target_size = (300,300),\n",
        "    class_mode = 'binary'\n",
        ")"
      ],
      "metadata": {
        "colab": {
          "base_uri": "https://localhost:8080/"
        },
        "id": "irS9v75gRFEb",
        "outputId": "65e20d9b-fa4a-4c1f-cef2-851a4132e229"
      },
      "execution_count": 16,
      "outputs": [
        {
          "output_type": "stream",
          "name": "stdout",
          "text": [
            "Found 1027 images belonging to 2 classes.\n"
          ]
        }
      ]
    },
    {
      "cell_type": "code",
      "source": [
        "import tensorflow as tf\n",
        "model = tf.keras.models.Sequential([\n",
        "tf.keras.layers.Conv2D(16,(3,3),activation = 'relu',input_shape=(300,300,3)),\n",
        "tf.keras.layers.MaxPooling2D(2,2),\n",
        "tf.keras.layers.Conv2D(16,(3,3),activation = 'relu'),\n",
        "tf.keras.layers.MaxPooling2D(2,2),\n",
        "tf.keras.layers.Conv2D(64,(3,3),activation = 'relu'),\n",
        "tf.keras.layers.MaxPooling2D(2,2),\n",
        "tf.keras.layers.Conv2D(64,(3,3),activation = 'relu'),\n",
        "tf.keras.layers.MaxPooling2D(2,2),\n",
        "tf.keras.layers.Conv2D(64,(3,3),activation = 'relu'),\n",
        "tf.keras.layers.MaxPooling2D(2,2),\n",
        "tf.keras.layers.Flatten(),\n",
        "tf.keras.layers.Dense(512,activation='relu'),\n",
        "tf.keras.layers.Dense(1,activation='sigmoid')\n",
        "])"
      ],
      "metadata": {
        "id": "hTTZ5tyVR7xM"
      },
      "execution_count": 9,
      "outputs": []
    },
    {
      "cell_type": "code",
      "source": [
        "model.summary"
      ],
      "metadata": {
        "colab": {
          "base_uri": "https://localhost:8080/"
        },
        "id": "3dCWod0_7Elx",
        "outputId": "e53ccb69-75c6-491a-dd33-0df88e08d498"
      },
      "execution_count": 10,
      "outputs": [
        {
          "output_type": "execute_result",
          "data": {
            "text/plain": [
              "<bound method Model.summary of <keras.engine.sequential.Sequential object at 0x7f51a1ff7c90>>"
            ]
          },
          "metadata": {},
          "execution_count": 10
        }
      ]
    },
    {
      "cell_type": "code",
      "source": [
        "model.compile(optimizer=tf.keras.optimizers.RMSprop(lr = 0.001),\n",
        "              loss='binary_crossentropy',\n",
        "              metrics=['accuracy'])"
      ],
      "metadata": {
        "colab": {
          "base_uri": "https://localhost:8080/"
        },
        "id": "GruKe7rO7NPU",
        "outputId": "ec2bc9f4-f826-40b7-c510-a5b2e469dcbb"
      },
      "execution_count": 17,
      "outputs": [
        {
          "output_type": "stream",
          "name": "stderr",
          "text": [
            "/usr/local/lib/python3.7/dist-packages/keras/optimizer_v2/rmsprop.py:130: UserWarning: The `lr` argument is deprecated, use `learning_rate` instead.\n",
            "  super(RMSprop, self).__init__(name, **kwargs)\n"
          ]
        }
      ]
    },
    {
      "cell_type": "code",
      "source": [
        "history = model.fit_generator(train_generator,epochs = 15)"
      ],
      "metadata": {
        "colab": {
          "base_uri": "https://localhost:8080/"
        },
        "id": "GYRo9izY-wiz",
        "outputId": "90bbe8dc-e906-4829-e3ce-85e261e993a2"
      },
      "execution_count": 20,
      "outputs": [
        {
          "output_type": "stream",
          "name": "stderr",
          "text": [
            "/usr/local/lib/python3.7/dist-packages/ipykernel_launcher.py:1: UserWarning: `Model.fit_generator` is deprecated and will be removed in a future version. Please use `Model.fit`, which supports generators.\n",
            "  \"\"\"Entry point for launching an IPython kernel.\n"
          ]
        },
        {
          "output_type": "stream",
          "name": "stdout",
          "text": [
            "Epoch 1/15\n",
            "33/33 [==============================] - 72s 2s/step - loss: 0.8049 - accuracy: 0.6134\n",
            "Epoch 2/15\n",
            "33/33 [==============================] - 70s 2s/step - loss: 0.4478 - accuracy: 0.8520\n",
            "Epoch 3/15\n",
            "33/33 [==============================] - 72s 2s/step - loss: 0.1851 - accuracy: 0.9367\n",
            "Epoch 4/15\n",
            "33/33 [==============================] - 70s 2s/step - loss: 0.3243 - accuracy: 0.9211\n",
            "Epoch 5/15\n",
            "33/33 [==============================] - 70s 2s/step - loss: 0.0552 - accuracy: 0.9786\n",
            "Epoch 6/15\n",
            "33/33 [==============================] - 70s 2s/step - loss: 0.2272 - accuracy: 0.9464\n",
            "Epoch 7/15\n",
            "33/33 [==============================] - 70s 2s/step - loss: 0.0414 - accuracy: 0.9796\n",
            "Epoch 8/15\n",
            "33/33 [==============================] - 71s 2s/step - loss: 0.0923 - accuracy: 0.9805\n",
            "Epoch 9/15\n",
            "33/33 [==============================] - 70s 2s/step - loss: 0.1079 - accuracy: 0.9727\n",
            "Epoch 10/15\n",
            "33/33 [==============================] - 71s 2s/step - loss: 0.1301 - accuracy: 0.9718\n",
            "Epoch 11/15\n",
            "33/33 [==============================] - 72s 2s/step - loss: 0.0054 - accuracy: 0.9990\n",
            "Epoch 12/15\n",
            "33/33 [==============================] - 71s 2s/step - loss: 0.3198 - accuracy: 0.9834\n",
            "Epoch 13/15\n",
            "33/33 [==============================] - 71s 2s/step - loss: 0.0069 - accuracy: 0.9990\n",
            "Epoch 14/15\n",
            "33/33 [==============================] - 72s 2s/step - loss: 3.5474e-04 - accuracy: 1.0000\n",
            "Epoch 15/15\n",
            "33/33 [==============================] - 71s 2s/step - loss: 0.8075 - accuracy: 0.9766\n"
          ]
        }
      ]
    },
    {
      "cell_type": "code",
      "source": [
        "validation_url =  \"https://storage.googleapis.com/laurencemoroney-blog.appspot.com/validation-horse-or-human.zip\"\n",
        "validation_file_name = \"validation-horse-or-human.zip\"\n",
        "validation_dir = 'horse-or-human/validation'\n",
        "urllib.request.urlretrieve(validation_url,validation_file_name)\n",
        "zip_ref = zipfile.ZipFile(validation_file_name,'r')\n",
        "zip_ref.extractall(validation_dir)\n",
        "zip_ref.close()"
      ],
      "metadata": {
        "id": "0G1JdvLYCEXq"
      },
      "execution_count": 21,
      "outputs": []
    },
    {
      "cell_type": "code",
      "source": [
        "validation_datagen = ImageDataGenerator(rescale=1/255)\n",
        "validation_generator = train_datagen.flow_from_directory(\n",
        "    validation_dir,\n",
        "    target_size = (300,300),\n",
        "    class_mode = 'binary'\n",
        ")"
      ],
      "metadata": {
        "colab": {
          "base_uri": "https://localhost:8080/"
        },
        "id": "0qEEsVYmDLOn",
        "outputId": "53bffb6c-ca57-4b8c-8780-81215840b855"
      },
      "execution_count": 22,
      "outputs": [
        {
          "output_type": "stream",
          "name": "stdout",
          "text": [
            "Found 256 images belonging to 2 classes.\n"
          ]
        }
      ]
    },
    {
      "cell_type": "code",
      "source": [
        "history = model.fit_generator(train_generator,epochs = 15,validation_data=validation_generator)"
      ],
      "metadata": {
        "colab": {
          "base_uri": "https://localhost:8080/"
        },
        "id": "QvbGl541DjTX",
        "outputId": "11afe51c-9d86-4311-e501-a26c7f448a59"
      },
      "execution_count": 23,
      "outputs": [
        {
          "output_type": "stream",
          "name": "stderr",
          "text": [
            "/usr/local/lib/python3.7/dist-packages/ipykernel_launcher.py:1: UserWarning: `Model.fit_generator` is deprecated and will be removed in a future version. Please use `Model.fit`, which supports generators.\n",
            "  \"\"\"Entry point for launching an IPython kernel.\n"
          ]
        },
        {
          "output_type": "stream",
          "name": "stdout",
          "text": [
            "Epoch 1/15\n",
            "33/33 [==============================] - 77s 2s/step - loss: 0.0024 - accuracy: 0.9990 - val_loss: 2.6045 - val_accuracy: 0.8398\n",
            "Epoch 2/15\n",
            "33/33 [==============================] - 75s 2s/step - loss: 1.7896e-04 - accuracy: 1.0000 - val_loss: 3.1428 - val_accuracy: 0.8398\n",
            "Epoch 3/15\n",
            "33/33 [==============================] - 75s 2s/step - loss: 1.4486 - accuracy: 0.9708 - val_loss: 1.7799 - val_accuracy: 0.8906\n",
            "Epoch 4/15\n",
            "33/33 [==============================] - 75s 2s/step - loss: 0.0155 - accuracy: 0.9961 - val_loss: 2.5484 - val_accuracy: 0.8594\n",
            "Epoch 5/15\n",
            "33/33 [==============================] - 77s 2s/step - loss: 0.0102 - accuracy: 0.9971 - val_loss: 3.3136 - val_accuracy: 0.8438\n",
            "Epoch 6/15\n",
            "33/33 [==============================] - 80s 2s/step - loss: 9.6671e-05 - accuracy: 1.0000 - val_loss: 3.6112 - val_accuracy: 0.8477\n",
            "Epoch 7/15\n",
            "33/33 [==============================] - 80s 2s/step - loss: 1.3546e-05 - accuracy: 1.0000 - val_loss: 4.0124 - val_accuracy: 0.8516\n",
            "Epoch 8/15\n",
            "33/33 [==============================] - 81s 2s/step - loss: 2.4054e-06 - accuracy: 1.0000 - val_loss: 4.6583 - val_accuracy: 0.8516\n",
            "Epoch 9/15\n",
            "33/33 [==============================] - 76s 2s/step - loss: 0.3847 - accuracy: 0.9747 - val_loss: 2.0989 - val_accuracy: 0.7812\n",
            "Epoch 10/15\n",
            "33/33 [==============================] - 76s 2s/step - loss: 0.0052 - accuracy: 0.9990 - val_loss: 2.6801 - val_accuracy: 0.8828\n",
            "Epoch 11/15\n",
            "33/33 [==============================] - 78s 2s/step - loss: 0.0160 - accuracy: 0.9951 - val_loss: 2.9363 - val_accuracy: 0.8281\n",
            "Epoch 12/15\n",
            "33/33 [==============================] - 75s 2s/step - loss: 5.4790e-05 - accuracy: 1.0000 - val_loss: 3.4383 - val_accuracy: 0.8359\n",
            "Epoch 13/15\n",
            "33/33 [==============================] - 80s 2s/step - loss: 9.7331e-06 - accuracy: 1.0000 - val_loss: 3.9234 - val_accuracy: 0.8359\n",
            "Epoch 14/15\n",
            "33/33 [==============================] - 78s 2s/step - loss: 1.9282e-06 - accuracy: 1.0000 - val_loss: 4.4909 - val_accuracy: 0.8398\n",
            "Epoch 15/15\n",
            "33/33 [==============================] - 77s 2s/step - loss: 3.0887e-07 - accuracy: 1.0000 - val_loss: 5.0975 - val_accuracy: 0.8398\n"
          ]
        }
      ]
    }
  ]
}