{
  "nbformat": 4,
  "nbformat_minor": 0,
  "metadata": {
    "colab": {
      "name": "Fashion MNIST using CNN Algorithm.ipynb",
      "provenance": []
    },
    "kernelspec": {
      "name": "python3",
      "display_name": "Python 3"
    },
    "language_info": {
      "name": "python"
    }
  },
  "cells": [
    {
      "cell_type": "code",
      "execution_count": 1,
      "metadata": {
        "id": "1evlrCfdVLaM"
      },
      "outputs": [],
      "source": [
        "import tensorflow as tf"
      ]
    },
    {
      "cell_type": "code",
      "source": [
        "data=tf.keras.datasets.fashion_mnist"
      ],
      "metadata": {
        "id": "TIzrDDZ5VTBr"
      },
      "execution_count": 2,
      "outputs": []
    },
    {
      "cell_type": "code",
      "source": [
        "(training_images,training_labels),(test_images,test_labels)=data.load_data()"
      ],
      "metadata": {
        "colab": {
          "base_uri": "https://localhost:8080/"
        },
        "id": "nNOXOPMAVXTz",
        "outputId": "a779ce2f-ca47-47d4-b5bf-512b7cfbe45b"
      },
      "execution_count": 3,
      "outputs": [
        {
          "output_type": "stream",
          "name": "stdout",
          "text": [
            "Downloading data from https://storage.googleapis.com/tensorflow/tf-keras-datasets/train-labels-idx1-ubyte.gz\n",
            "32768/29515 [=================================] - 0s 0us/step\n",
            "40960/29515 [=========================================] - 0s 0us/step\n",
            "Downloading data from https://storage.googleapis.com/tensorflow/tf-keras-datasets/train-images-idx3-ubyte.gz\n",
            "26427392/26421880 [==============================] - 0s 0us/step\n",
            "26435584/26421880 [==============================] - 0s 0us/step\n",
            "Downloading data from https://storage.googleapis.com/tensorflow/tf-keras-datasets/t10k-labels-idx1-ubyte.gz\n",
            "16384/5148 [===============================================================================================] - 0s 0us/step\n",
            "Downloading data from https://storage.googleapis.com/tensorflow/tf-keras-datasets/t10k-images-idx3-ubyte.gz\n",
            "4423680/4422102 [==============================] - 0s 0us/step\n",
            "4431872/4422102 [==============================] - 0s 0us/step\n"
          ]
        }
      ]
    },
    {
      "cell_type": "code",
      "source": [
        "# reshape each array to have that extra dimension\n",
        "training_images = training_images.reshape(60000,28,28,1)\n",
        "training_images = training_images/255.0\n",
        "# reshape each array to have that extra dimension\n",
        "test_images = test_images.reshape(10000,28,28,1)\n",
        "test_images = test_images/255.0"
      ],
      "metadata": {
        "id": "tHiHmgdUVgxA"
      },
      "execution_count": 4,
      "outputs": []
    },
    {
      "cell_type": "code",
      "source": [
        "model = tf.keras.models.Sequential([\n",
        "tf.keras.layers.Conv2D(64,(3,3),activation = 'relu',input_shape=(28,28,1)),\n",
        "tf.keras.layers.MaxPooling2D(2,2),\n",
        "tf.keras.layers.Conv2D(64,(3,3),activation = 'relu'),\n",
        "tf.keras.layers.MaxPooling2D(2,2),\n",
        "tf.keras.layers.Flatten(),\n",
        "tf.keras.layers.Dense(128,activation=tf.nn.relu),\n",
        "tf.keras.layers.Dense(10,activation=tf.nn.softmax)\n",
        "])"
      ],
      "metadata": {
        "id": "DmLctoEbWVJx"
      },
      "execution_count": 6,
      "outputs": []
    },
    {
      "cell_type": "code",
      "source": [
        "model.compile(optimizer='adam',\n",
        "              loss='sparse_categorical_crossentropy',\n",
        "              metrics=['accuracy'])"
      ],
      "metadata": {
        "id": "b4M_A_MZYcOa"
      },
      "execution_count": 7,
      "outputs": []
    },
    {
      "cell_type": "code",
      "source": [
        "model.fit(training_images,training_labels,epochs=50)"
      ],
      "metadata": {
        "colab": {
          "base_uri": "https://localhost:8080/"
        },
        "id": "4UwuOv4mYhDC",
        "outputId": "3f77624f-f2c7-4b36-950e-143091fc0f00"
      },
      "execution_count": 8,
      "outputs": [
        {
          "output_type": "stream",
          "name": "stdout",
          "text": [
            "Epoch 1/50\n",
            "1875/1875 [==============================] - 93s 49ms/step - loss: 0.4418 - accuracy: 0.8392\n",
            "Epoch 2/50\n",
            "1875/1875 [==============================] - 90s 48ms/step - loss: 0.2941 - accuracy: 0.8921\n",
            "Epoch 3/50\n",
            "1875/1875 [==============================] - 89s 48ms/step - loss: 0.2486 - accuracy: 0.9087\n",
            "Epoch 4/50\n",
            "1875/1875 [==============================] - 88s 47ms/step - loss: 0.2163 - accuracy: 0.9193\n",
            "Epoch 5/50\n",
            "1875/1875 [==============================] - 88s 47ms/step - loss: 0.1879 - accuracy: 0.9295\n",
            "Epoch 6/50\n",
            "1875/1875 [==============================] - 87s 46ms/step - loss: 0.1666 - accuracy: 0.9379\n",
            "Epoch 7/50\n",
            "1875/1875 [==============================] - 89s 47ms/step - loss: 0.1462 - accuracy: 0.9450\n",
            "Epoch 8/50\n",
            "1875/1875 [==============================] - 91s 48ms/step - loss: 0.1295 - accuracy: 0.9514\n",
            "Epoch 9/50\n",
            "1875/1875 [==============================] - 88s 47ms/step - loss: 0.1114 - accuracy: 0.9579\n",
            "Epoch 10/50\n",
            "1875/1875 [==============================] - 90s 48ms/step - loss: 0.0998 - accuracy: 0.9627\n",
            "Epoch 11/50\n",
            "1875/1875 [==============================] - 89s 47ms/step - loss: 0.0865 - accuracy: 0.9669\n",
            "Epoch 12/50\n",
            "1875/1875 [==============================] - 91s 49ms/step - loss: 0.0761 - accuracy: 0.9709\n",
            "Epoch 13/50\n",
            "1875/1875 [==============================] - 91s 49ms/step - loss: 0.0679 - accuracy: 0.9745\n",
            "Epoch 14/50\n",
            "1875/1875 [==============================] - 92s 49ms/step - loss: 0.0622 - accuracy: 0.9764\n",
            "Epoch 15/50\n",
            "1875/1875 [==============================] - 91s 49ms/step - loss: 0.0538 - accuracy: 0.9797\n",
            "Epoch 16/50\n",
            "1875/1875 [==============================] - 92s 49ms/step - loss: 0.0488 - accuracy: 0.9818\n",
            "Epoch 17/50\n",
            "1875/1875 [==============================] - 90s 48ms/step - loss: 0.0460 - accuracy: 0.9829\n",
            "Epoch 18/50\n",
            "1875/1875 [==============================] - 90s 48ms/step - loss: 0.0426 - accuracy: 0.9849\n",
            "Epoch 19/50\n",
            "1875/1875 [==============================] - 92s 49ms/step - loss: 0.0374 - accuracy: 0.9864\n",
            "Epoch 20/50\n",
            "1875/1875 [==============================] - 92s 49ms/step - loss: 0.0396 - accuracy: 0.9858\n",
            "Epoch 21/50\n",
            "1875/1875 [==============================] - 91s 48ms/step - loss: 0.0342 - accuracy: 0.9874\n",
            "Epoch 22/50\n",
            "1875/1875 [==============================] - 91s 48ms/step - loss: 0.0328 - accuracy: 0.9878\n",
            "Epoch 23/50\n",
            "1875/1875 [==============================] - 90s 48ms/step - loss: 0.0298 - accuracy: 0.9892\n",
            "Epoch 24/50\n",
            "1875/1875 [==============================] - 91s 48ms/step - loss: 0.0313 - accuracy: 0.9885\n",
            "Epoch 25/50\n",
            "1875/1875 [==============================] - 89s 47ms/step - loss: 0.0270 - accuracy: 0.9900\n",
            "Epoch 26/50\n",
            "1875/1875 [==============================] - 92s 49ms/step - loss: 0.0249 - accuracy: 0.9915\n",
            "Epoch 27/50\n",
            "1875/1875 [==============================] - 91s 49ms/step - loss: 0.0290 - accuracy: 0.9897\n",
            "Epoch 28/50\n",
            "1875/1875 [==============================] - 88s 47ms/step - loss: 0.0273 - accuracy: 0.9907\n",
            "Epoch 29/50\n",
            "1875/1875 [==============================] - 91s 48ms/step - loss: 0.0255 - accuracy: 0.9913\n",
            "Epoch 30/50\n",
            "1875/1875 [==============================] - 89s 48ms/step - loss: 0.0233 - accuracy: 0.9919\n",
            "Epoch 31/50\n",
            "1875/1875 [==============================] - 90s 48ms/step - loss: 0.0217 - accuracy: 0.9922\n",
            "Epoch 32/50\n",
            "1875/1875 [==============================] - 89s 47ms/step - loss: 0.0272 - accuracy: 0.9908\n",
            "Epoch 33/50\n",
            "1875/1875 [==============================] - 91s 49ms/step - loss: 0.0205 - accuracy: 0.9928\n",
            "Epoch 34/50\n",
            "1875/1875 [==============================] - 89s 47ms/step - loss: 0.0214 - accuracy: 0.9926\n",
            "Epoch 35/50\n",
            "1875/1875 [==============================] - 89s 48ms/step - loss: 0.0236 - accuracy: 0.9923\n",
            "Epoch 36/50\n",
            "1875/1875 [==============================] - 88s 47ms/step - loss: 0.0249 - accuracy: 0.9920\n",
            "Epoch 37/50\n",
            "1875/1875 [==============================] - 97s 52ms/step - loss: 0.0186 - accuracy: 0.9936\n",
            "Epoch 38/50\n",
            "1875/1875 [==============================] - 89s 48ms/step - loss: 0.0226 - accuracy: 0.9925\n",
            "Epoch 39/50\n",
            "1875/1875 [==============================] - 89s 47ms/step - loss: 0.0201 - accuracy: 0.9934\n",
            "Epoch 40/50\n",
            "1875/1875 [==============================] - 92s 49ms/step - loss: 0.0212 - accuracy: 0.9929\n",
            "Epoch 41/50\n",
            "1875/1875 [==============================] - 89s 47ms/step - loss: 0.0171 - accuracy: 0.9939\n",
            "Epoch 42/50\n",
            "1875/1875 [==============================] - 88s 47ms/step - loss: 0.0195 - accuracy: 0.9938\n",
            "Epoch 43/50\n",
            "1875/1875 [==============================] - 89s 47ms/step - loss: 0.0184 - accuracy: 0.9939\n",
            "Epoch 44/50\n",
            "1875/1875 [==============================] - 89s 47ms/step - loss: 0.0194 - accuracy: 0.9936\n",
            "Epoch 45/50\n",
            "1875/1875 [==============================] - 91s 49ms/step - loss: 0.0163 - accuracy: 0.9948\n",
            "Epoch 46/50\n",
            "1875/1875 [==============================] - 92s 49ms/step - loss: 0.0195 - accuracy: 0.9934\n",
            "Epoch 47/50\n",
            "1875/1875 [==============================] - 91s 49ms/step - loss: 0.0167 - accuracy: 0.9945\n",
            "Epoch 48/50\n",
            "1875/1875 [==============================] - 91s 49ms/step - loss: 0.0192 - accuracy: 0.9938\n",
            "Epoch 49/50\n",
            "1875/1875 [==============================] - 90s 48ms/step - loss: 0.0161 - accuracy: 0.9947\n",
            "Epoch 50/50\n",
            "1875/1875 [==============================] - 91s 49ms/step - loss: 0.0154 - accuracy: 0.9952\n"
          ]
        },
        {
          "output_type": "execute_result",
          "data": {
            "text/plain": [
              "<keras.callbacks.History at 0x7f81c934bbd0>"
            ]
          },
          "metadata": {},
          "execution_count": 8
        }
      ]
    },
    {
      "cell_type": "code",
      "source": [
        "model.evaluate(test_images,test_labels)"
      ],
      "metadata": {
        "colab": {
          "base_uri": "https://localhost:8080/"
        },
        "id": "gx4OsRgfY0_9",
        "outputId": "9259b65a-f8ac-47f4-d7bc-b85cea9106e2"
      },
      "execution_count": 9,
      "outputs": [
        {
          "output_type": "stream",
          "name": "stdout",
          "text": [
            "313/313 [==============================] - 5s 14ms/step - loss: 0.9767 - accuracy: 0.9117\n"
          ]
        },
        {
          "output_type": "execute_result",
          "data": {
            "text/plain": [
              "[0.976722776889801, 0.9117000102996826]"
            ]
          },
          "metadata": {},
          "execution_count": 9
        }
      ]
    },
    {
      "cell_type": "code",
      "source": [
        "classifications = model.predict(test_images)"
      ],
      "metadata": {
        "id": "7r1eu5PjlC7C"
      },
      "execution_count": 10,
      "outputs": []
    },
    {
      "cell_type": "code",
      "source": [
        "print(classifications[0])"
      ],
      "metadata": {
        "colab": {
          "base_uri": "https://localhost:8080/"
        },
        "id": "RxuEPTXulL28",
        "outputId": "6d0172f8-bd49-49e9-a676-88bf5717417b"
      },
      "execution_count": 11,
      "outputs": [
        {
          "output_type": "stream",
          "name": "stdout",
          "text": [
            "[2.0483407e-29 1.4349748e-33 4.0329910e-30 0.0000000e+00 1.1033495e-30\n",
            " 3.8694074e-27 0.0000000e+00 1.2060999e-25 1.8173798e-32 1.0000000e+00]\n"
          ]
        }
      ]
    },
    {
      "cell_type": "code",
      "source": [
        "print(test_labels[0])"
      ],
      "metadata": {
        "colab": {
          "base_uri": "https://localhost:8080/"
        },
        "id": "gB2wNAo1lO40",
        "outputId": "211ecc20-4c8d-41b6-84eb-9cf015405db7"
      },
      "execution_count": 12,
      "outputs": [
        {
          "output_type": "stream",
          "name": "stdout",
          "text": [
            "9\n"
          ]
        }
      ]
    },
    {
      "cell_type": "code",
      "source": [
        "model.summary"
      ],
      "metadata": {
        "colab": {
          "base_uri": "https://localhost:8080/"
        },
        "id": "yN76ZrOYn-9F",
        "outputId": "3b75ab7c-3c20-44df-c995-7d7500bcf97b"
      },
      "execution_count": 13,
      "outputs": [
        {
          "output_type": "execute_result",
          "data": {
            "text/plain": [
              "<bound method Model.summary of <keras.engine.sequential.Sequential object at 0x7f81cd16d290>>"
            ]
          },
          "metadata": {},
          "execution_count": 13
        }
      ]
    }
  ]
}